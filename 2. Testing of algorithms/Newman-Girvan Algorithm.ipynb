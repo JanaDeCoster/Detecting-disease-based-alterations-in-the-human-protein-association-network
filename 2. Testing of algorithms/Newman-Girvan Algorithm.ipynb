{
 "cells": [
  {
   "cell_type": "code",
   "execution_count": 1,
   "metadata": {},
   "outputs": [],
   "source": [
    "import pandas as pd\n",
    "import numpy as np\n",
    "import networkx as nx\n",
    "from networkx.algorithms import community\n",
    "from networkx.algorithms.community import girvan_newman\n",
    "import matplotlib.cm as cm\n",
    "import matplotlib.pyplot as plt\n",
    "import itertools\n",
    "import time"
   ]
  },
  {
   "cell_type": "code",
   "execution_count": 10,
   "metadata": {},
   "outputs": [],
   "source": [
    "# load the data and create a copy dataset\n",
    "ppi = pd.read_csv(r'/home/compomics/Jana/PPI.csv', encoding = 'utf-8', compression = 'gzip', low_memory = False, sep = '\\t')\n",
    "uniprot_ids = pd.read_csv(r'/home/compomics/Jana/Metadata.csv', encoding = 'utf-8', compression = 'gzip', low_memory = False, sep = '\\t')\n",
    "ppi2 = ppi.copy()"
   ]
  },
  {
   "cell_type": "markdown",
   "metadata": {},
   "source": [
    "## Create a NetworkX graph"
   ]
  },
  {
   "cell_type": "code",
   "execution_count": 3,
   "metadata": {},
   "outputs": [],
   "source": [
    "nodes = list(set(list(ppi2.UniprotAccession_A.unique()) + list(ppi2.UniprotAccession_B.unique())))\n",
    "edges = []\n",
    "for i in range(len(ppi2)):\n",
    "    edges.append(tuple([ppi2.UniprotAccession_A[i], ppi2.UniprotAccession_B[i]]))"
   ]
  },
  {
   "cell_type": "code",
   "execution_count": 4,
   "metadata": {},
   "outputs": [
    {
     "name": "stdout",
     "output_type": "stream",
     "text": [
      "18683\n",
      "543266\n"
     ]
    }
   ],
   "source": [
    "# Create empty graph\n",
    "G = nx.Graph()\n",
    "\n",
    "# Add the nodes\n",
    "G.add_nodes_from(nodes)\n",
    "\n",
    "#Add the edges\n",
    "G.add_edges_from(edges)\n",
    "\n",
    "print(G.number_of_nodes())\n",
    "print(G.number_of_edges())"
   ]
  },
  {
   "cell_type": "markdown",
   "metadata": {},
   "source": [
    "# Newman-Girvan fast greedy algorithm"
   ]
  },
  {
   "cell_type": "code",
   "execution_count": 5,
   "metadata": {},
   "outputs": [
    {
     "name": "stdout",
     "output_type": "stream",
     "text": [
      "The computational time to cluster the network is: 391806.76 seconds\n"
     ]
    }
   ],
   "source": [
    "# Run the algorithm and print the computational time the algorithm takes\n",
    "time_start = time.perf_counter()\n",
    "k = 1\n",
    "gn = girvan_newman(G)\n",
    "for comm in itertools.islice(gn, k):\n",
    "    communities = tuple(sorted(c) for c in comm)\n",
    "time_elapsed = (time.perf_counter() - time_start)\n",
    "print(f'The computational time to cluster the network is: {time_elapsed:.2f} seconds')"
   ]
  },
  {
   "cell_type": "code",
   "execution_count": 8,
   "metadata": {},
   "outputs": [
    {
     "data": {
      "text/plain": [
       "{0: 18670, 1: 4, 2: 2, 3: 2, 4: 2, 5: 3}"
      ]
     },
     "execution_count": 8,
     "metadata": {},
     "output_type": "execute_result"
    }
   ],
   "source": [
    "# Get the amount of proteins for each cluster detected\n",
    "x = dict()\n",
    "for i in range(len(communities)):\n",
    "    x[i] = len(communities[i])\n",
    "x"
   ]
  },
  {
   "cell_type": "markdown",
   "metadata": {},
   "source": [
    "## Breast Carcinoma"
   ]
  },
  {
   "cell_type": "code",
   "execution_count": 12,
   "metadata": {},
   "outputs": [],
   "source": [
    "# check which clusters contain these proteins\n",
    "uniprot_ids = uniprot_ids.astype(str)\n",
    "bc = uniprot_ids[uniprot_ids['DisGeNet_disease_name'].str.contains('Breast Carcinoma')]\n",
    "bc_proteins = bc.UniprotAccession.tolist()\n",
    "\n",
    "communities3 = dict()\n",
    "for i in range(len(communities)):\n",
    "    x = communities[i]\n",
    "    r = []\n",
    "    for ele in x:\n",
    "        if ele in bc_proteins:\n",
    "            r.append(ele)\n",
    "    if len(r) > 0:\n",
    "        communities3[i] = len(r)"
   ]
  },
  {
   "cell_type": "code",
   "execution_count": 13,
   "metadata": {},
   "outputs": [
    {
     "data": {
      "text/plain": [
       "{0: 307}"
      ]
     },
     "execution_count": 13,
     "metadata": {},
     "output_type": "execute_result"
    }
   ],
   "source": [
    "# print the amount of disease-associated nodes per detected cluster\n",
    "communities3"
   ]
  }
 ],
 "metadata": {
  "kernelspec": {
   "display_name": "Python 3",
   "language": "python",
   "name": "python3"
  },
  "language_info": {
   "codemirror_mode": {
    "name": "ipython",
    "version": 3
   },
   "file_extension": ".py",
   "mimetype": "text/x-python",
   "name": "python",
   "nbconvert_exporter": "python",
   "pygments_lexer": "ipython3",
   "version": "3.8.3"
  }
 },
 "nbformat": 4,
 "nbformat_minor": 4
}
