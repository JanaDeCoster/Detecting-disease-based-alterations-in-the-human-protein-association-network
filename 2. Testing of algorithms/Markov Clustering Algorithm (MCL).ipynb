{
 "cells": [
  {
   "cell_type": "code",
   "execution_count": 1,
   "metadata": {},
   "outputs": [],
   "source": [
    "import pandas as pd\n",
    "import numpy as np\n",
    "import markov_clustering as mc\n",
    "import networkx as nx\n",
    "import time\n",
    "from networkx.algorithms import community\n",
    "from cdlib import algorithms"
   ]
  },
  {
   "cell_type": "code",
   "execution_count": 2,
   "metadata": {},
   "outputs": [],
   "source": [
    "# Load all necessary data\n",
    "ppi = pd.read_csv(r'D:\\\\Jana De Coster\\\\Documents\\\\Ugent\\\\2de master\\\\Master thesis\\\\Network\\\\Data interaction network\\\\PPI data 20_08_2020\\\\PPI with Uniprot IDs\\\\PPI.csv', encoding = 'utf-8', compression = 'gzip', low_memory = False, sep = '\\t')\n",
    "uniprot_ids = pd.read_csv(r'D:\\\\Jana De Coster\\\\Documents\\\\Ugent\\\\2de master\\\\Master thesis\\\\Network\\\\Data interaction network\\\\Metadata\\\\Filtered metadata\\\\Metadata.csv', encoding = 'utf-8', compression = 'gzip', low_memory = False, sep = '\\t')\n",
    "ppi2 = ppi.copy()\n",
    "uniprot_ids = uniprot_ids.astype(str)"
   ]
  },
  {
   "cell_type": "markdown",
   "metadata": {},
   "source": [
    "# Create a NetworkX graph"
   ]
  },
  {
   "cell_type": "code",
   "execution_count": 3,
   "metadata": {},
   "outputs": [],
   "source": [
    "nodes = list(set(list(ppi2.UniprotAccession_A.unique()) + list(ppi2.UniprotAccession_B.unique())))\n",
    "edges = []\n",
    "for i in range(len(ppi2)):\n",
    "    edges.append(tuple([ppi2.UniprotAccession_A[i], ppi2.UniprotAccession_B[i]]))"
   ]
  },
  {
   "cell_type": "code",
   "execution_count": 4,
   "metadata": {},
   "outputs": [
    {
     "name": "stdout",
     "output_type": "stream",
     "text": [
      "18683\n",
      "543266\n"
     ]
    }
   ],
   "source": [
    "# Create empty graph\n",
    "G = nx.Graph()\n",
    "\n",
    "# Add the nodes\n",
    "G.add_nodes_from(nodes)\n",
    "\n",
    "#Add the edges\n",
    "G.add_edges_from(edges)\n",
    "\n",
    "print(G.number_of_nodes())\n",
    "print(G.number_of_edges())"
   ]
  },
  {
   "cell_type": "markdown",
   "metadata": {},
   "source": [
    "# Markov Clustering Algorithm (MCL)"
   ]
  },
  {
   "cell_type": "code",
   "execution_count": 5,
   "metadata": {},
   "outputs": [
    {
     "name": "stdout",
     "output_type": "stream",
     "text": [
      "The computational time to cluster the network is: 38.70 seconds\n",
      "The amount of clusters detected: 3703\n"
     ]
    }
   ],
   "source": [
    "# get the adjacency matrix (in sparse form)\n",
    "matrix = nx.to_scipy_sparse_matrix(G)\n",
    "\n",
    "# Run the MCL algorithm\n",
    "time_start = time.perf_counter()\n",
    "result = mc.run_mcl(matrix)\n",
    "clusters = mc.get_clusters(result)\n",
    "time_elapsed = (time.perf_counter() - time_start)\n",
    "print(f'The computational time to cluster the network is: {time_elapsed:.2f} seconds')\n",
    "\n",
    "print(f'The amount of clusters detected: {len(clusters)}')"
   ]
  },
  {
   "cell_type": "code",
   "execution_count": 6,
   "metadata": {},
   "outputs": [],
   "source": [
    "clusters2 = []\n",
    "for i in range(len(clusters)):\n",
    "    r = set()\n",
    "    for e in range(len(clusters[i])):\n",
    "        r.add(list(G.nodes())[clusters[i][e]])\n",
    "    clusters2.append(r)"
   ]
  },
  {
   "cell_type": "code",
   "execution_count": 7,
   "metadata": {},
   "outputs": [],
   "source": [
    "# Get the lenghth of each cluster\n",
    "mcl_dict_len = dict()\n",
    "for i in range(len(clusters2)):\n",
    "    mcl_dict_len[i] = len(clusters2[i])\n",
    "\n",
    "# get the proteins per cluster\n",
    "mcl_dict = dict()\n",
    "for i in range(len(clusters2)):\n",
    "    mcl_dict[i] = clusters2[i]"
   ]
  },
  {
   "cell_type": "code",
   "execution_count": 8,
   "metadata": {},
   "outputs": [
    {
     "data": {
      "text/plain": [
       "1178"
      ]
     },
     "execution_count": 8,
     "metadata": {},
     "output_type": "execute_result"
    }
   ],
   "source": [
    "max(list(mcl_dict_len.values()))"
   ]
  },
  {
   "cell_type": "code",
   "execution_count": 9,
   "metadata": {},
   "outputs": [
    {
     "data": {
      "text/plain": [
       "1"
      ]
     },
     "execution_count": 9,
     "metadata": {},
     "output_type": "execute_result"
    }
   ],
   "source": [
    "min(list(mcl_dict_len.values()))"
   ]
  },
  {
   "cell_type": "markdown",
   "metadata": {},
   "source": [
    "## Breast Carcinoma"
   ]
  },
  {
   "cell_type": "code",
   "execution_count": 10,
   "metadata": {
    "scrolled": true
   },
   "outputs": [],
   "source": [
    "# check which clusters contain these proteins\n",
    "bc = uniprot_ids[uniprot_ids['DisGeNet_disease_name'].str.contains('Breast Carcinoma')]\n",
    "bc_proteins = bc.UniprotAccession.tolist()\n",
    "\n",
    "# Create a dictionary containing all the disease-related proetins per cluster\n",
    "communities = dict()\n",
    "for i in range(len(mcl_dict)):\n",
    "    x = list(mcl_dict[i])\n",
    "    r = []\n",
    "    for ele in x:\n",
    "        if ele in bc_proteins:\n",
    "            r.append(ele)\n",
    "    if len(r) > 0:\n",
    "        communities[i] = r\n",
    "\n",
    "# Create a dictionary reporting the total amount of proteins per cluster that contains at least one disease-associated protein\n",
    "communities2 = dict()\n",
    "for i in range(len(mcl_dict)):\n",
    "    x = list(mcl_dict[i])\n",
    "    r = []\n",
    "    for ele in x:\n",
    "        if ele in bc_proteins:\n",
    "            communities2[i] = len(mcl_dict[i])\n",
    "\n",
    "# Create a dictionary reporting the amount of disease-associated proteins per cluster \n",
    "communities3 = dict()\n",
    "for i in range(len(mcl_dict)):\n",
    "    x = list(mcl_dict[i])\n",
    "    r = []\n",
    "    for ele in x:\n",
    "        if ele in bc_proteins:\n",
    "            r.append(ele)\n",
    "    if len(r) > 0:\n",
    "        communities3[i] = len(r)"
   ]
  },
  {
   "cell_type": "code",
   "execution_count": 11,
   "metadata": {},
   "outputs": [
    {
     "name": "stdout",
     "output_type": "stream",
     "text": [
      "The amount of disease-associated proteins is 308\n"
     ]
    }
   ],
   "source": [
    "print(f'The amount of disease-associated proteins is {len(bc_proteins)}')"
   ]
  },
  {
   "cell_type": "code",
   "execution_count": 16,
   "metadata": {},
   "outputs": [
    {
     "name": "stdout",
     "output_type": "stream",
     "text": [
      "The amount of disease-associated clusters is 155\n",
      "The maximum amount of disease-associated proteins per cluster is 18\n",
      "The minimum amount of disease-associated proteins per cluster is 1\n"
     ]
    }
   ],
   "source": [
    "print(f'The amount of disease-associated clusters is {len(communities3)}')\n",
    "print(f'The maximum amount of disease-associated proteins per cluster is {max(communities3.values())}')\n",
    "print(f'The minimum amount of disease-associated proteins per cluster is {min(communities3.values())}')"
   ]
  },
  {
   "cell_type": "code",
   "execution_count": 15,
   "metadata": {},
   "outputs": [
    {
     "data": {
      "text/plain": [
       "6168"
      ]
     },
     "execution_count": 15,
     "metadata": {},
     "output_type": "execute_result"
    }
   ],
   "source": [
    "# Get the amount of total proteins in the network after cluster filtration\n",
    "x = 0\n",
    "for ele in communities2:\n",
    "    x += communities2[ele]\n",
    "x"
   ]
  }
 ],
 "metadata": {
  "kernelspec": {
   "display_name": "Python 3",
   "language": "python",
   "name": "python3"
  },
  "language_info": {
   "codemirror_mode": {
    "name": "ipython",
    "version": 3
   },
   "file_extension": ".py",
   "mimetype": "text/x-python",
   "name": "python",
   "nbconvert_exporter": "python",
   "pygments_lexer": "ipython3",
   "version": "3.8.3"
  }
 },
 "nbformat": 4,
 "nbformat_minor": 4
}
