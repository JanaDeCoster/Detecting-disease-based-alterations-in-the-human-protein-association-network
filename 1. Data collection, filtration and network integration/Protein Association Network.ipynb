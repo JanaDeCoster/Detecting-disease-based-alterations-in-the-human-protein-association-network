{
 "cells": [
  {
   "cell_type": "code",
   "execution_count": 3,
   "metadata": {
    "scrolled": true
   },
   "outputs": [
    {
     "name": "stdout",
     "output_type": "stream",
     "text": [
      "\n",
      "INSTALLED VERSIONS\n",
      "------------------\n",
      "commit           : b5958ee1999e9aead1938c0bba2b674378807b3d\n",
      "python           : 3.8.3.final.0\n",
      "python-bits      : 64\n",
      "OS               : Windows\n",
      "OS-release       : 10\n",
      "Version          : 10.0.19041\n",
      "machine          : AMD64\n",
      "processor        : Intel64 Family 6 Model 78 Stepping 3, GenuineIntel\n",
      "byteorder        : little\n",
      "LC_ALL           : None\n",
      "LANG             : None\n",
      "LOCALE           : Dutch_Belgium.1252\n",
      "\n",
      "pandas           : 1.1.5\n",
      "numpy            : 1.18.5\n",
      "pytz             : 2020.1\n",
      "dateutil         : 2.8.1\n",
      "pip              : 20.1.1\n",
      "setuptools       : 49.2.0.post20200714\n",
      "Cython           : 0.29.14\n",
      "pytest           : 5.4.3\n",
      "hypothesis       : None\n",
      "sphinx           : 3.1.2\n",
      "blosc            : None\n",
      "feather          : None\n",
      "xlsxwriter       : 1.2.9\n",
      "lxml.etree       : 4.5.2\n",
      "html5lib         : 1.1\n",
      "pymysql          : None\n",
      "psycopg2         : None\n",
      "jinja2           : 2.11.2\n",
      "IPython          : 7.16.1\n",
      "pandas_datareader: None\n",
      "bs4              : 4.9.1\n",
      "bottleneck       : 1.3.2\n",
      "fsspec           : 0.7.4\n",
      "fastparquet      : None\n",
      "gcsfs            : None\n",
      "matplotlib       : 3.2.2\n",
      "numexpr          : 2.7.1\n",
      "odfpy            : None\n",
      "openpyxl         : 3.0.4\n",
      "pandas_gbq       : None\n",
      "pyarrow          : None\n",
      "pytables         : None\n",
      "pyxlsb           : None\n",
      "s3fs             : None\n",
      "scipy            : 1.5.0\n",
      "sqlalchemy       : 1.3.18\n",
      "tables           : 3.6.1\n",
      "tabulate         : None\n",
      "xarray           : None\n",
      "xlrd             : 1.2.0\n",
      "xlwt             : 1.3.0\n",
      "numba            : 0.50.1\n"
     ]
    }
   ],
   "source": [
    "import pandas as pd\n",
    "import numpy as np\n",
    "import networkx as nx\n",
    "import matplotlib\n",
    "import functools\n",
    "import itertools\n",
    "import community as community_louvain\n",
    "import matplotlib.cm as cm\n",
    "import matplotlib.pyplot as plt\n",
    "from functools import reduce\n",
    "from networkx.algorithms import community\n",
    "pd.show_versions()"
   ]
  },
  {
   "cell_type": "markdown",
   "metadata": {},
   "source": [
    "# Protein Association Network"
   ]
  },
  {
   "cell_type": "markdown",
   "metadata": {},
   "source": [
    "## Download the data"
   ]
  },
  {
   "cell_type": "code",
   "execution_count": 2,
   "metadata": {},
   "outputs": [],
   "source": [
    "# Load the dataframes\n",
    "ass = pd.read_table(\"http://genesis.ugent.be/uvpublicdata/Tabloid_Proteome/TPSignificantPairInfoHuman.txt\", sep = '\\t')\n",
    "uniprot_ids = pd.read_csv(r'D:\\\\Jana De Coster\\\\Documents\\\\Ugent\\\\2de master\\\\Master thesis\\\\Network\\\\Data interaction network\\\\Metadata\\\\Filtered metadata\\\\Metadata.csv', encoding = 'utf-8', compression = 'gzip', low_memory = False, sep = '\\t')"
   ]
  },
  {
   "cell_type": "code",
   "execution_count": 3,
   "metadata": {},
   "outputs": [],
   "source": [
    "ass.to_csv('D:\\\\Jana De Coster\\\\Documents\\\\Ugent\\\\2de master\\\\Master thesis\\\\Network\\\\Data interaction network\\\\PPA data 22_02_2021\\\\PPA_original.csv', encoding='utf-8', index = False, sep = '\\t')"
   ]
  },
  {
   "cell_type": "code",
   "execution_count": 4,
   "metadata": {
    "scrolled": true
   },
   "outputs": [
    {
     "data": {
      "text/plain": [
       "(1904, 17)"
      ]
     },
     "execution_count": 4,
     "metadata": {},
     "output_type": "execute_result"
    }
   ],
   "source": [
    "ass.shape"
   ]
  },
  {
   "cell_type": "markdown",
   "metadata": {},
   "source": [
    "The association data has been collected based upon "
   ]
  },
  {
   "cell_type": "markdown",
   "metadata": {},
   "source": [
    "## Update the metadata to match the PPI metadata"
   ]
  },
  {
   "cell_type": "code",
   "execution_count": 5,
   "metadata": {
    "scrolled": true
   },
   "outputs": [],
   "source": [
    "# Retain only the necessary columns and rename them\n",
    "ass = ass[['UniprotAccessionA', \n",
    "           'UniprotAccessionB', \n",
    "           'JaccardCoefficient', \n",
    "           'CommonProjectsCount', \n",
    "           'CommonProjectNames', \n",
    "           'CommonAssayCount']]\n",
    "\n",
    "# merge the uniprot IDs with the interactions\n",
    "pa = pd.merge(ass, uniprot_ids, left_on = 'UniprotAccessionA', right_on = 'UniprotAccession', how = 'left')\n",
    "pa = pd.merge(pa, uniprot_ids, left_on = 'UniprotAccessionB', right_on = 'UniprotAccession', how = 'left')\n",
    "\n",
    "# Alter the suffixes added\n",
    "pa.columns = pa.columns.str.replace(r'_x', '_A')\n",
    "pa.columns = pa.columns.str.replace(r'_y', '_B')\n",
    "\n",
    "# Combine similar annotation data between the two proteins and save this data in corresponding columns\n",
    "pa = pa.astype(str)"
   ]
  },
  {
   "cell_type": "code",
   "execution_count": 6,
   "metadata": {},
   "outputs": [],
   "source": [
    "# Rearrange the columns\n",
    "pa = pa[['UniprotAccession_A', \n",
    "         'Protein_name_A',  \n",
    "         'Gene_names_A', \n",
    "         'UniprotAccession_B', \n",
    "         'Protein_name_B',  \n",
    "         'Gene_names_B',\n",
    "         'JaccardCoefficient', \n",
    "         'CommonProjectsCount', \n",
    "         'CommonProjectNames', \n",
    "         'CommonAssayCount', \n",
    "         'GO_biological_process_A', \n",
    "         'GO_cellular_component_A', \n",
    "         'GO_molecular_function_A', \n",
    "         'Reactome_ID_A', \n",
    "         'Reactome_name_A', \n",
    "         'HPA_gene_A', \n",
    "         'HPA_gene_description_A', \n",
    "         'HPA_Subcellular_location_A', \n",
    "         'CORUM_complexes_A', \n",
    "         'CORUM_subunit_IDs_A', \n",
    "         'DisGeNet_disease_name_A', \n",
    "         'DisGeNet_disease_ID_A',\n",
    "         'DisGeNet_class_A', \n",
    "         'DisGeNet_gene_A', \n",
    "         'DisGeNet_score_A', \n",
    "         'DisProt_name_A', \n",
    "         'DisProt_ID_A', \n",
    "         'GO_biological_process_B', \n",
    "         'GO_cellular_component_B', \n",
    "         'GO_molecular_function_B', \n",
    "         'Reactome_ID_B', \n",
    "         'Reactome_name_B', \n",
    "         'HPA_gene_B', \n",
    "         'HPA_gene_description_B', \n",
    "         'HPA_Subcellular_location_B', \n",
    "         'CORUM_complexes_B', \n",
    "         'CORUM_subunit_IDs_B', \n",
    "         'DisGeNet_disease_name_B', \n",
    "         'DisGeNet_disease_ID_B', \n",
    "         'DisGeNet_class_B', \n",
    "         'DisGeNet_gene_B', \n",
    "         'DisGeNet_score_B', \n",
    "         'DisProt_name_B', \n",
    "         'DisProt_ID_B']]\n",
    "pa = pa.astype(str)"
   ]
  },
  {
   "cell_type": "code",
   "execution_count": 7,
   "metadata": {},
   "outputs": [
    {
     "name": "stdout",
     "output_type": "stream",
     "text": [
      "729\n",
      "1904\n"
     ]
    }
   ],
   "source": [
    "nodes = list(set(list(pa.UniprotAccession_A.unique()) + list(pa.UniprotAccession_B.unique())))\n",
    "edges = []\n",
    "for i in range(len(pa)):\n",
    "    edges.append(tuple([pa.UniprotAccession_A[i], pa.UniprotAccession_B[i]]))\n",
    "    \n",
    "# Create empty graph\n",
    "G = nx.Graph()\n",
    "\n",
    "# Add the nodes\n",
    "G.add_nodes_from(nodes)\n",
    "\n",
    "#Add the edges\n",
    "G.add_edges_from(edges)\n",
    "\n",
    "print(G.number_of_nodes())\n",
    "print(G.number_of_edges())"
   ]
  },
  {
   "cell_type": "code",
   "execution_count": 8,
   "metadata": {},
   "outputs": [],
   "source": [
    "#Save the dataframe both in csv and txt format and  save the uniprot_ids as well\n",
    "pa.to_csv('D:\\\\Jana De Coster\\\\Documents\\\\Ugent\\\\2de master\\\\Master thesis\\\\Network\\\\Data interaction network\\\\PPI data 20_08_2020\\\\PPI with Uniprot IDs\\\\PA_nodes.csv', encoding = 'utf-8', compression = 'gzip', index = False, sep = '\\t')\n",
    "pa.to_csv('D:\\\\Jana De Coster\\\\Documents\\\\Ugent\\\\2de master\\\\Master thesis\\\\Network\\\\Data interaction network\\\\PPI data 20_08_2020\\\\PPI with Uniprot IDs\\\\PA_nodes.txt', encoding = 'utf-8', compression = 'gzip', index = False, sep = '\\t')"
   ]
  },
  {
   "cell_type": "markdown",
   "metadata": {},
   "source": [
    "# Second protein association network (latest version)"
   ]
  },
  {
   "cell_type": "code",
   "execution_count": 14,
   "metadata": {},
   "outputs": [],
   "source": [
    "ass2 = pd.read_csv(r'D:\\\\Jana De Coster\\\\Documents\\\\Ugent\\\\2de master\\\\Master thesis\\\\Network\\\\Data interaction network\\\\PPA data 22_02_2021\\\\FinalPair_ParaCompxBGGOKrIg0.4Jaccard20Jan21.txt', sep = '\\t')\n",
    "uniprot_ids = pd.read_csv(r'D:\\\\Jana De Coster\\\\Documents\\\\Ugent\\\\2de master\\\\Master thesis\\\\Network\\\\Data interaction network\\\\Metadata\\\\Filtered metadata\\\\Metadata.csv', encoding = 'utf-8', compression = 'gzip', low_memory = False, sep = '\\t')"
   ]
  },
  {
   "cell_type": "code",
   "execution_count": 15,
   "metadata": {
    "scrolled": true
   },
   "outputs": [],
   "source": [
    "# Retain only the necessary columns and rename them\n",
    "ass2 = ass2[['protein1', \n",
    "             'protein2', \n",
    "             'Jaccard', \n",
    "             'assay1', \n",
    "             'assay2', \n",
    "             'CommAssay']]\n",
    "# merge the uniprot IDs with the interactions\n",
    "pa2 = pd.merge(ass2, uniprot_ids, left_on = 'protein1', right_on = 'UniprotAccession', how = 'left')\n",
    "pa2 = pd.merge(pa2, uniprot_ids, left_on = 'protein2', right_on = 'UniprotAccession', how = 'left')\n",
    "\n",
    "# Alter the suffixes added\n",
    "pa2.columns = pa2.columns.str.replace(r'_x', '_A')\n",
    "pa2.columns = pa2.columns.str.replace(r'_y', '_B')\n",
    "\n",
    "# Combine similar annotation data between the two proteins and save this data in corresponding columns\n",
    "pa2 = pa2.astype(str)\n",
    "\n",
    "# Rename some columns:\n",
    "pa2.rename(columns = {'Jaccard' : 'JaccardCoefficient', \n",
    "                      'assay1' : 'Assay_A', \n",
    "                      'assay2' : 'Assay_B', \n",
    "                      'CommAssay' : 'CommonAssayCount'}, inplace = True)"
   ]
  },
  {
   "cell_type": "code",
   "execution_count": 16,
   "metadata": {},
   "outputs": [],
   "source": [
    "# Rearrange the columns\n",
    "pa2 = pa2[['UniprotAccession_A', \n",
    "         'Protein_name_A',  \n",
    "         'Gene_names_A', \n",
    "         'UniprotAccession_B', \n",
    "         'Protein_name_B',  \n",
    "         'Gene_names_B',\n",
    "         'JaccardCoefficient',\n",
    "         'CommonAssayCount', \n",
    "         'GO_biological_process_A', \n",
    "         'GO_cellular_component_A', \n",
    "         'GO_molecular_function_A', \n",
    "         'Reactome_ID_A', \n",
    "         'Reactome_name_A', \n",
    "         'HPA_gene_A', \n",
    "         'HPA_gene_description_A', \n",
    "         'HPA_Subcellular_location_A', \n",
    "         'CORUM_complexes_A', \n",
    "         'CORUM_subunit_IDs_A', \n",
    "         'DisGeNet_disease_name_A', \n",
    "         'DisGeNet_disease_ID_A',\n",
    "         'DisGeNet_class_A', \n",
    "         'DisGeNet_gene_A', \n",
    "         'DisGeNet_score_A', \n",
    "         'DisProt_name_A', \n",
    "         'DisProt_ID_A', \n",
    "         'GO_biological_process_B', \n",
    "         'GO_cellular_component_B', \n",
    "         'GO_molecular_function_B', \n",
    "         'Reactome_ID_B', \n",
    "         'Reactome_name_B', \n",
    "         'HPA_gene_B', \n",
    "         'HPA_gene_description_B', \n",
    "         'HPA_Subcellular_location_B', \n",
    "         'CORUM_complexes_B', \n",
    "         'CORUM_subunit_IDs_B', \n",
    "         'DisGeNet_disease_name_B', \n",
    "         'DisGeNet_disease_ID_B', \n",
    "         'DisGeNet_class_B', \n",
    "         'DisGeNet_gene_B', \n",
    "         'DisGeNet_score_B', \n",
    "         'DisProt_name_B', \n",
    "         'DisProt_ID_B']]"
   ]
  },
  {
   "cell_type": "code",
   "execution_count": 17,
   "metadata": {},
   "outputs": [],
   "source": [
    "# Remove columns with nan values in the UniProt ids\n",
    "pa2 = pa2.astype(str)\n",
    "for i in range(pa2.shape[0]):\n",
    "    if pa2.UniprotAccession_A[i] == 'nan' or pa2.UniprotAccession_B[i] == 'nan':\n",
    "        pa2 = pa2.drop(i)\n",
    "pa2.reset_index(drop = True, inplace = True)\n",
    "pa2 = pa2.astype(str)"
   ]
  },
  {
   "cell_type": "code",
   "execution_count": 18,
   "metadata": {},
   "outputs": [
    {
     "name": "stdout",
     "output_type": "stream",
     "text": [
      "3650\n",
      "152800\n"
     ]
    }
   ],
   "source": [
    "nodes = list(set(list(pa2.UniprotAccession_A.unique()) + list(pa2.UniprotAccession_B.unique())))\n",
    "edges = []\n",
    "for i in range(len(pa2)):\n",
    "    edges.append(tuple([pa2.UniprotAccession_A[i], pa2.UniprotAccession_B[i]]))\n",
    "    \n",
    "# Create empty graph\n",
    "G2 = nx.Graph()\n",
    "\n",
    "# Add the nodes\n",
    "G2.add_nodes_from(nodes)\n",
    "\n",
    "#Add the edges\n",
    "G2.add_edges_from(edges)\n",
    "\n",
    "print(G2.number_of_nodes())\n",
    "print(G2.number_of_edges())"
   ]
  },
  {
   "cell_type": "code",
   "execution_count": 13,
   "metadata": {},
   "outputs": [],
   "source": [
    "#Save the dataframe both in csv and txt format and  save the uniprot_ids as well\n",
    "pa2.to_csv('D:\\\\Jana De Coster\\\\Documents\\\\Ugent\\\\2de master\\\\Master thesis\\\\Network\\\\Data interaction network\\\\PPI data 20_08_2020\\\\PPI with Uniprot IDs\\\\PA_latest_nodes.csv', encoding = 'utf-8', compression = 'gzip', index = False, sep = '\\t')\n",
    "pa2.to_csv('D:\\\\Jana De Coster\\\\Documents\\\\Ugent\\\\2de master\\\\Master thesis\\\\Network\\\\Data interaction network\\\\PPI data 20_08_2020\\\\PPI with Uniprot IDs\\\\PA_latest_nodes.txt', encoding = 'utf-8', compression = 'gzip', index = False, sep = '\\t')"
   ]
  }
 ],
 "metadata": {
  "kernelspec": {
   "display_name": "Python 3",
   "language": "python",
   "name": "python3"
  },
  "language_info": {
   "codemirror_mode": {
    "name": "ipython",
    "version": 3
   },
   "file_extension": ".py",
   "mimetype": "text/x-python",
   "name": "python",
   "nbconvert_exporter": "python",
   "pygments_lexer": "ipython3",
   "version": "3.8.3"
  }
 },
 "nbformat": 4,
 "nbformat_minor": 4
}
